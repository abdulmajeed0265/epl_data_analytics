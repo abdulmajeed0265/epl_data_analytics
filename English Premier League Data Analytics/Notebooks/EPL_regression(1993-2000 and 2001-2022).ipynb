{
 "cells": [
  {
   "attachments": {},
   "cell_type": "markdown",
   "metadata": {},
   "source": [
    "## Regression Analysis on EPL match data using Pythegoreon Winning Percentage and Actual Winning Percentage."
   ]
  },
  {
   "attachments": {},
   "cell_type": "markdown",
   "metadata": {},
   "source": [
    "### Importing relevant libraries"
   ]
  },
  {
   "cell_type": "code",
   "execution_count": null,
   "metadata": {},
   "outputs": [],
   "source": [
    "import numpy as np\n",
    "import pandas as pd\n",
    "import matplotlib.pyplot as plt\n",
    "import seaborn as sns\n",
    "import statsmodels.formula.api as smf\n",
    "import warnings\n",
    "warnings.filterwarnings(\"ignore\")"
   ]
  },
  {
   "cell_type": "code",
   "execution_count": null,
   "metadata": {},
   "outputs": [],
   "source": [
    "EPL = pd.read_csv('English Premier League Data Analytics\\Data\\EPL_Matches_93_22.csv')\n",
    "EPL.head()"
   ]
  },
  {
   "attachments": {},
   "cell_type": "markdown",
   "metadata": {},
   "source": [
    "## Data Preprocessing  Exploratory Data Analysis (EDA)"
   ]
  },
  {
   "cell_type": "code",
   "execution_count": null,
   "metadata": {},
   "outputs": [],
   "source": [
    "EPL.describe()"
   ]
  },
  {
   "cell_type": "code",
   "execution_count": null,
   "metadata": {},
   "outputs": [],
   "source": [
    "EPL.info()"
   ]
  },
  {
   "attachments": {},
   "cell_type": "markdown",
   "metadata": {},
   "source": [
    "### Splitting the dataset into two decades (from 1993 - 2000 and 2001 - 2022)"
   ]
  },
  {
   "cell_type": "code",
   "execution_count": null,
   "metadata": {},
   "outputs": [],
   "source": [
    "#Extracting data between 1993 and 2000\n",
    "_93_2000 = EPL[(EPL['Year'] >= 1993) & (EPL['Year'] <= 2000)]"
   ]
  },
  {
   "cell_type": "code",
   "execution_count": null,
   "metadata": {},
   "outputs": [],
   "source": [
    "#Extracting data between 2001 and 2022\n",
    "_2001_2022 = EPL[(EPL['Year'] >= 2001) & (EPL['Year'] <= 2022)]\n",
    "_2001_2022.head()"
   ]
  },
  {
   "cell_type": "code",
   "execution_count": null,
   "metadata": {},
   "outputs": [],
   "source": [
    "_93_2000.shape"
   ]
  },
  {
   "cell_type": "code",
   "execution_count": null,
   "metadata": {},
   "outputs": [],
   "source": [
    "#Dropping unwanted variables\n",
    "_93_2000 = _93_2000.drop(['win_pct', 'pyth'], axis = 1)"
   ]
  },
  {
   "cell_type": "code",
   "execution_count": null,
   "metadata": {},
   "outputs": [],
   "source": [
    "#Dropping unwanted variables\n",
    "_2001_2022 = _2001_2022.drop(['win_pct', 'pyth'], axis=1)"
   ]
  },
  {
   "cell_type": "code",
   "execution_count": null,
   "metadata": {},
   "outputs": [],
   "source": [
    "#Data Aggregation for 1993- 2000 data\n",
    "EPL_93 = _93_2000.groupby(['Team'])['PTS', 'GF', 'GA', 'W', 'D', 'L',\n",
    "'WV', 'GP'].sum().reset_index()"
   ]
  },
  {
   "cell_type": "code",
   "execution_count": null,
   "metadata": {},
   "outputs": [],
   "source": [
    "#Data Aggregation for 2001 - 2022 data\n",
    "EPL_2001_2022 = _2001_2022.groupby(['Team'])['PTS', 'GF', 'GA', 'W', 'D', 'L',\n",
    "                                    'WV', 'GP'].sum().reset_index()"
   ]
  },
  {
   "cell_type": "code",
   "execution_count": null,
   "metadata": {},
   "outputs": [],
   "source": [
    "#Creating new variables for winning percentages\n",
    "EPL_93['win_pct'] = EPL_93['W'] / EPL_93['GP']\n",
    "EPL_93['pyth_win_pct']  = EPL_93['GF'] ** 2 / (EPL_93['GF'] ** 2 + EPL_93['GA'] ** 2)"
   ]
  },
  {
   "cell_type": "code",
   "execution_count": null,
   "metadata": {},
   "outputs": [],
   "source": [
    "#Creating new variables for winning percentages\n",
    "EPL_2001_2022['win_pct'] = EPL_2001_2022['W'] / EPL_2001_2022['GP']\n",
    "EPL_2001_2022['pyth_win_pct'] = EPL_2001_2022['GF'] ** 2 / (EPL_2001_2022['GF'] ** 2 + EPL_2001_2022['GA'] ** 2)\n",
    "EPL_2001_2022.head()"
   ]
  },
  {
   "cell_type": "code",
   "execution_count": null,
   "metadata": {},
   "outputs": [],
   "source": [
    "EPL_93.describe()"
   ]
  },
  {
   "cell_type": "code",
   "execution_count": null,
   "metadata": {},
   "outputs": [],
   "source": [
    "EPL_2001_2022.describe()"
   ]
  },
  {
   "cell_type": "code",
   "execution_count": null,
   "metadata": {},
   "outputs": [],
   "source": [
    "EPL_93.head()"
   ]
  },
  {
   "cell_type": "code",
   "execution_count": null,
   "metadata": {},
   "outputs": [],
   "source": [
    "EPL_2001_2022.head()"
   ]
  },
  {
   "attachments": {},
   "cell_type": "markdown",
   "metadata": {},
   "source": [
    "### Exploratory Data Analysis (EDA)"
   ]
  },
  {
   "cell_type": "code",
   "execution_count": null,
   "metadata": {},
   "outputs": [],
   "source": [
    "#Correlation Matrix for data from 1993 to 2000\n",
    "sns.set_style(\"whitegrid\")\n",
    "sns.set_style(\"ticks\" , {\"xtick.major.size\" : 8, \"ytick.major.size\":8})\n",
    "plt.figure(figsize = (10, 8))\n",
    "sns.heatmap(EPL_93.corr(), annot = True, cmap = 'coolwarm')\n",
    "plt.title('Correlation Coffiecent Matrix for 1993 to 2000 Season', fontsize = 20)"
   ]
  },
  {
   "cell_type": "code",
   "execution_count": null,
   "metadata": {},
   "outputs": [],
   "source": [
    "#Scatterplot between win percentages and pyth. win percentage\n",
    "plt.figure(figsize=(10, 8))\n",
    "sns.regplot(x='win_pct', y='pyth_win_pct', data=EPL_93)\n",
    "plt.title('Winning Percentage vs Pythogorean Winning Percentage for 1993 - 2000', fontsize = 15)\n",
    "plt.xlabel('Winning Percentage', fontsize = 10)\n",
    "plt.ylabel('Pythogorean Winning Percentge', fontsize = 10)"
   ]
  },
  {
   "cell_type": "code",
   "execution_count": null,
   "metadata": {},
   "outputs": [],
   "source": [
    "#Correlation Matrix for data from 1993 to 2000\n",
    "plt.figure(figsize = (10, 8))\n",
    "sns.heatmap(EPL_2001_2022.corr(), annot=True, cmap = 'coolwarm')\n",
    "plt.title('Correlation Coffiecent Matrix for 2001 to 2022 Season', fontsize=20)"
   ]
  },
  {
   "cell_type": "code",
   "execution_count": null,
   "metadata": {},
   "outputs": [],
   "source": [
    "#Scatterplot between win percentages and pyth. win percentage\n",
    "plt.figure(figsize = (10, 8))\n",
    "sns.regplot(x = 'win_pct', y = 'pyth_win_pct', data = EPL_2001_2022)\n",
    "plt.title(\n",
    "    'Winning Percentage vs Pythogorean Winning Percentage for 2001 - 2022', fontsize=15)\n",
    "plt.xlabel('Winning Percentage', fontsize=10)\n",
    "plt.ylabel('Pythogorean Winning Percentge', fontsize=10)"
   ]
  },
  {
   "cell_type": "code",
   "execution_count": null,
   "metadata": {},
   "outputs": [],
   "source": [
    "#Distributions of values\n",
    "for feat in EPL_93.columns:\n",
    "    if feat != 'Team':\n",
    "        sns.displot(EPL_93[feat])\n",
    "        plt.title(f\"Distribution of {feat} 1993 - 2000\", fontsize=20)\n",
    "        plt.xlabel(feat, fontsize=15)\n",
    "        plt.ylabel('Count', fontsize=15)"
   ]
  },
  {
   "cell_type": "code",
   "execution_count": null,
   "metadata": {},
   "outputs": [],
   "source": [
    "# Distributions of values\n",
    "for feat in EPL_93.columns:\n",
    "    if feat != 'Team':\n",
    "        sns.displot(EPL_2001_2022[feat])\n",
    "        plt.title(f\"Distribution of {feat} 2001 - 2022\", fontsize=20)\n",
    "        plt.xlabel(feat, fontsize=15)\n",
    "        plt.ylabel('Count', fontsize=15)"
   ]
  },
  {
   "cell_type": "code",
   "execution_count": null,
   "metadata": {},
   "outputs": [],
   "source": [
    "#Top 10 teams with the highest Winning Percentage\n",
    "EPL_93.sort_values(by = 'win_pct', ascending = False).head(10)"
   ]
  },
  {
   "cell_type": "code",
   "execution_count": null,
   "metadata": {},
   "outputs": [],
   "source": [
    "# Top 10 teams with the low Winning Percentage\n",
    "EPL_93.sort_values(by='win_pct', ascending=True).head(10)"
   ]
  },
  {
   "cell_type": "code",
   "execution_count": null,
   "metadata": {},
   "outputs": [],
   "source": [
    "# Top 10 teams with most points\n",
    "EPL_93.sort_values(by='PTS', ascending=False).head(10)"
   ]
  },
  {
   "cell_type": "code",
   "execution_count": null,
   "metadata": {},
   "outputs": [],
   "source": [
    "# Top 10 teams with most goals\n",
    "EPL_93.sort_values(by='GF', ascending=False).head(10)"
   ]
  },
  {
   "cell_type": "code",
   "execution_count": null,
   "metadata": {},
   "outputs": [],
   "source": [
    "# Top 10 teams with most wins\n",
    "EPL_93.sort_values(by='W', ascending=False).head(10)\n"
   ]
  },
  {
   "cell_type": "code",
   "execution_count": null,
   "metadata": {},
   "outputs": [],
   "source": [
    "# Top 10 teams with high pyth win pct\n",
    "EPL_93.sort_values(by='pyth_win_pct', ascending=False).head(10)"
   ]
  },
  {
   "cell_type": "code",
   "execution_count": null,
   "metadata": {},
   "outputs": [],
   "source": [
    "#Top 10 teams with high Winning Percentages\n",
    "EPL_2001_2022.sort_values(by='win_pct', ascending=False).head(10)"
   ]
  },
  {
   "cell_type": "code",
   "execution_count": null,
   "metadata": {},
   "outputs": [],
   "source": [
    "# Top 10 teams with most wins\n",
    "EPL_2001_2022.sort_values(by=['W','GP'], ascending=[False, False]).head(10)"
   ]
  },
  {
   "cell_type": "code",
   "execution_count": null,
   "metadata": {},
   "outputs": [],
   "source": [
    "# Top 10 teams with most loss\n",
    "EPL_2001_2022.sort_values(by=['L','GP'], ascending=[False, False]).head(10)"
   ]
  },
  {
   "cell_type": "code",
   "execution_count": null,
   "metadata": {},
   "outputs": [],
   "source": [
    "# Top 10 teams with most Goals\n",
    "EPL_2001_2022.sort_values(by=['GF', 'GF'], ascending=[False, False]).head(10)"
   ]
  },
  {
   "cell_type": "code",
   "execution_count": null,
   "metadata": {},
   "outputs": [],
   "source": [
    "# Top 10 teams with most points\n",
    "EPL_2001_2022.sort_values(by=['PTS', 'GP', 'GA', 'GF'], ascending = [False, False, False, False]).head(10)"
   ]
  },
  {
   "cell_type": "code",
   "execution_count": null,
   "metadata": {},
   "outputs": [],
   "source": [
    "# Top 10 teams with most pyth win pct\n",
    "EPL_2001_2022.sort_values(by='pyth_win_pct', ascending=False).head(10)"
   ]
  },
  {
   "cell_type": "code",
   "execution_count": null,
   "metadata": {},
   "outputs": [],
   "source": [
    "#Linear Model Plots between win pct vs all variables / features from 1993 - 2000\n",
    "for feat in EPL_93.columns:\n",
    "    if feat not in ['Team','win_pct']:\n",
    "        sns.lmplot(x = 'win_pct', y = feat, data = EPL_93)\n",
    "        plt.title(f\"Regression of Win Percentage vs {feat} 1993 - 2000\", fontsize = 20)\n",
    "        plt.xlabel('Win Percentage', fontsize = 15)\n",
    "        plt.ylabel(feat, fontsize = 15)"
   ]
  },
  {
   "cell_type": "code",
   "execution_count": null,
   "metadata": {},
   "outputs": [],
   "source": [
    "for feat in EPL_93.columns:\n",
    "#Linear Model Plots between pyth. win pct vs all variables / features from 1993 - 2000\n",
    "    if feat not in ['Team', 'pyth_win_pct']:\n",
    "        sns.lmplot(x='pyth_win_pct', y=feat, data=EPL_93)\n",
    "        plt.title(f\"Regression of Pyth Win Percentage vs {feat} 1993 - 2000\", fontsize=20)\n",
    "        plt.xlabel('Pyth Win Percentage', fontsize=15)\n",
    "        plt.ylabel(feat, fontsize=15)"
   ]
  },
  {
   "cell_type": "code",
   "execution_count": null,
   "metadata": {},
   "outputs": [],
   "source": [
    "#Linear Model Plots between win pct vs all variables / features from 2001 - 2022\n",
    "for feat in EPL_2001_2022.columns:\n",
    "    if feat not in ['Team', 'win_pct']:\n",
    "        sns.lmplot(x='win_pct', y=feat, data=EPL_2001_2022)\n",
    "        plt.title(f\"Regression of Win Percentage vs {feat} 2001 - 2022\", fontsize=20)\n",
    "        plt.xlabel('Win Percentage', fontsize=15)\n",
    "        plt.ylabel(feat, fontsize=15)\n"
   ]
  },
  {
   "cell_type": "code",
   "execution_count": null,
   "metadata": {},
   "outputs": [],
   "source": [
    "#Linear Model Plots between pyth. win pct vs all variables / features from 1993 - 2000\n",
    "for feat in EPL_93.columns:\n",
    "    if feat not in ['Team', 'pyth_win_pct']:\n",
    "        sns.lmplot(x='pyth_win_pct', y=feat, data=EPL_93)\n",
    "        plt.title(f\"Regression of Pyth Win Percentage vs {feat} 1993 - 2000\", fontsize=20)\n",
    "        plt.xlabel('Pyth Win Percentage', fontsize=15)\n",
    "        plt.ylabel(feat, fontsize=15)"
   ]
  },
  {
   "attachments": {},
   "cell_type": "markdown",
   "metadata": {},
   "source": [
    "### Regression Analysis"
   ]
  },
  {
   "cell_type": "code",
   "execution_count": null,
   "metadata": {},
   "outputs": [],
   "source": [
    "#Win_pct + pyth_win_pct (1993 - 2000)\n",
    "reg1 = smf.ols(formula = 'win_pct ~ pyth_win_pct', data = EPL_93).fit()\n",
    "print(reg1.summary())"
   ]
  },
  {
   "cell_type": "code",
   "execution_count": null,
   "metadata": {},
   "outputs": [],
   "source": [
    "#Win_pct + pyth_win_pct (2001 - 2022)\n",
    "reg2 = smf.ols(formula='win_pct ~ pyth_win_pct', data=EPL_2001_2022).fit()\n",
    "print(reg2.summary())"
   ]
  },
  {
   "cell_type": "code",
   "execution_count": null,
   "metadata": {},
   "outputs": [],
   "source": [
    "#Win_pct + GF (1993 - 2000)\n",
    "reg3 = smf.ols(formula='win_pct ~ GF', data=EPL_93).fit()\n",
    "print(reg3.summary())"
   ]
  },
  {
   "cell_type": "code",
   "execution_count": null,
   "metadata": {},
   "outputs": [],
   "source": [
    "#Win_pct + GF (2001- 2022)\n",
    "reg4 = smf.ols(formula='win_pct ~ GF', data=EPL_2001_2022).fit()\n",
    "print(reg4.summary())"
   ]
  },
  {
   "cell_type": "code",
   "execution_count": null,
   "metadata": {},
   "outputs": [],
   "source": [
    "#Win_pct + GF+GP (2001- 2022)\n",
    "reg5_1 = smf.ols(formula='win_pct ~ GF+GP', data=EPL_93).fit()\n",
    "print(reg5_1.summary())"
   ]
  },
  {
   "cell_type": "code",
   "execution_count": null,
   "metadata": {},
   "outputs": [],
   "source": [
    "#Win_pct + GF+GP (2001- 2022)\n",
    "reg5 = smf.ols(formula='win_pct ~ GF+GP', data=EPL_2001_2022).fit()\n",
    "print(reg5.summary())"
   ]
  },
  {
   "cell_type": "code",
   "execution_count": null,
   "metadata": {},
   "outputs": [],
   "source": [
    "#Win_pct + GF+GP (2001- 2022)\n",
    "reg5__ = smf.ols(formula='win_pct ~ GF+GP+GA+WV+L+D', data=EPL_93).fit()\n",
    "print(reg5__.summary())"
   ]
  },
  {
   "cell_type": "code",
   "execution_count": null,
   "metadata": {},
   "outputs": [],
   "source": [
    "#Win_pct + GF+GP (2001- 2022)\n",
    "reg5__1 = smf.ols(formula='win_pct ~ GF+GP+GA+WV+L+D', data=EPL_2001_2022).fit()\n",
    "print(reg5__1.summary())"
   ]
  },
  {
   "cell_type": "code",
   "execution_count": null,
   "metadata": {},
   "outputs": [],
   "source": [
    "#Win_pct + GF+ (2001- 2022)\n",
    "reg6 = smf.wls(formula='win_pct ~ GF+GP+D',weight = 1 / EPL_2001_2022['PTS'] ,data=EPL_2001_2022).fit()\n",
    "print(reg6.summary())"
   ]
  },
  {
   "cell_type": "code",
   "execution_count": null,
   "metadata": {},
   "outputs": [],
   "source": [
    "#Win_pct + GF+ (2001- 2022)\n",
    "reg6 = smf.wls(formula='win_pct ~ GF+GP+D', weight=1 / EPL_93['PTS'], data=EPL_93).fit()\n",
    "print(reg6.summary())\n"
   ]
  }
 ],
 "metadata": {
  "kernelspec": {
   "display_name": "Python 3.8.8 ('base')",
   "language": "python",
   "name": "python3"
  },
  "language_info": {
   "codemirror_mode": {
    "name": "ipython",
    "version": 3
   },
   "file_extension": ".py",
   "mimetype": "text/x-python",
   "name": "python",
   "nbconvert_exporter": "python",
   "pygments_lexer": "ipython3",
   "version": "3.8.8 (default, Apr 13 2021, 15:08:03) [MSC v.1916 64 bit (AMD64)]"
  },
  "orig_nbformat": 4,
  "vscode": {
   "interpreter": {
    "hash": "a3d1f5a40e83e699fa9d98d411f8d9f4af992d6222f178debd8b0cd072f22c83"
   }
  }
 },
 "nbformat": 4,
 "nbformat_minor": 2
}
