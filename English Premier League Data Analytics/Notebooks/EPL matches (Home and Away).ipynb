{
 "cells": [
  {
   "attachments": {},
   "cell_type": "markdown",
   "metadata": {},
   "source": [
    "### Exploratory Data Analysis (EDA) and Regression Analysis for Home and Away Teams for EPL 1993 - 2022 Seasons"
   ]
  },
  {
   "cell_type": "code",
   "execution_count": null,
   "metadata": {},
   "outputs": [],
   "source": [
    "#Importing Relevant libraries\n",
    "import numpy as np\n",
    "import pandas as pd\n",
    "import matplotlib.pyplot as plt\n",
    "import seaborn as sns\n",
    "import warnings\n",
    "warnings.filterwarnings(\"ignore\")"
   ]
  },
  {
   "cell_type": "code",
   "execution_count": null,
   "metadata": {},
   "outputs": [],
   "source": [
    "#Loading data\n",
    "home = pd.read_csv('English Premier League Data Analytics\\Data\\home_teams.csv')\n",
    "away = pd.read_csv('English Premier League Data Analytics\\Data\\away_teams.csv')\n",
    "display(home)"
   ]
  },
  {
   "cell_type": "code",
   "execution_count": null,
   "metadata": {},
   "outputs": [],
   "source": [
    "display(away)"
   ]
  },
  {
   "cell_type": "code",
   "execution_count": null,
   "metadata": {},
   "outputs": [],
   "source": [
    "home.describe()"
   ]
  },
  {
   "cell_type": "code",
   "execution_count": null,
   "metadata": {},
   "outputs": [],
   "source": [
    "away.describe()"
   ]
  },
  {
   "cell_type": "code",
   "execution_count": null,
   "metadata": {},
   "outputs": [],
   "source": [
    "home.corr()"
   ]
  },
  {
   "cell_type": "code",
   "execution_count": null,
   "metadata": {},
   "outputs": [],
   "source": [
    "away.corr()"
   ]
  },
  {
   "cell_type": "code",
   "execution_count": null,
   "metadata": {},
   "outputs": [],
   "source": [
    "#Correlation for home teams\n",
    "plt.figure(figsize=(15,8))\n",
    "sns.heatmap(home.corr(), annot = True, cmap = 'coolwarm')\n",
    "plt.title('Correlation Matrix', fontsize=20)"
   ]
  },
  {
   "cell_type": "code",
   "execution_count": null,
   "metadata": {},
   "outputs": [],
   "source": [
    "#Correlation for away teams\n",
    "plt.figure(figsize=(15, 8))\n",
    "sns.heatmap(away.corr(), annot=True, cmap='coolwarm')\n",
    "plt.title('Correlation Matrix', fontsize = 20)"
   ]
  },
  {
   "cell_type": "code",
   "execution_count": null,
   "metadata": {},
   "outputs": [],
   "source": [
    "#Renaming Data columns for home team data\n",
    "home = home.rename(columns = {\"Goals_for_h\": 'HomeGoals', 'Goals_against_a': 'AwayGoals', 'GPh':'GP', 'HW':'W',\n",
    "                   'HD':'D', 'HL':'L', 'HPTS':'PTS', 'hwinvalue':'WV'})\n",
    "home.head()"
   ]
  },
  {
   "cell_type": "code",
   "execution_count": null,
   "metadata": {},
   "outputs": [],
   "source": [
    "#Renaming data columns for away team data\n",
    "away = away.rename(columns = {\"Goals_for_a\": 'AwayGoals', 'Goals_against_h': 'HomeGoals', 'GPa':'GP', 'AW':'W',\n",
    "                   'AD':'D', 'AL':'L', 'APTS':'PTS', 'awinvalue':'WV'})\n",
    "away.head()"
   ]
  },
  {
   "cell_type": "code",
   "execution_count": null,
   "metadata": {},
   "outputs": [],
   "source": [
    "#Data Aggregation for home and away team data\n",
    "home = home.groupby(['Team'])['HomeGoals', 'AwayGoals', 'GP', 'W', 'D', 'L','PTS', 'WV'].sum().reset_index()\n",
    "away = away.groupby(['Team'])['HomeGoals', 'AwayGoals', 'GP', 'W', 'D', 'L','PTS', 'WV'].sum().reset_index()\n",
    "display(home[0:10])"
   ]
  },
  {
   "cell_type": "code",
   "execution_count": null,
   "metadata": {},
   "outputs": [],
   "source": [
    "#Renaming some columns to more meaningful names\n",
    "home = home.rename(columns = {'HomeGoals':'Goals_Scored', 'AwayGoals':'Goals_Conced'})\n",
    "home.head(3)"
   ]
  },
  {
   "cell_type": "code",
   "execution_count": null,
   "metadata": {},
   "outputs": [],
   "source": [
    "display(away[0:10])"
   ]
  },
  {
   "cell_type": "code",
   "execution_count": null,
   "metadata": {},
   "outputs": [],
   "source": [
    "#Renaming some columns to more meaningful names\n",
    "away = away.rename(columns = {'HomeGoals':'Goals_conced', 'AwayGoals': 'Goals_scored'})\n",
    "away[0:3]"
   ]
  },
  {
   "cell_type": "code",
   "execution_count": null,
   "metadata": {},
   "outputs": [],
   "source": [
    "#Selecting useful Data columns for analysis\n",
    "away = away[['Team', 'Goals_scored', 'Goals_conced', 'GP', 'W', 'D', 'L', 'PTS','WV']]\n",
    "away.head()"
   ]
  },
  {
   "cell_type": "code",
   "execution_count": null,
   "metadata": {},
   "outputs": [],
   "source": [
    "#Creating relevant variables\n",
    "home['win_pct'] = home['W'] / home['GP']\n",
    "home['pyth_win_pct'] = home['Goals_Scored'] ** 2 / (home['Goals_Scored'] ** 2 + home['Goals_Conced'] ** 2)\n",
    "display(home[0:4])"
   ]
  },
  {
   "cell_type": "code",
   "execution_count": null,
   "metadata": {},
   "outputs": [],
   "source": [
    "home.describe()"
   ]
  },
  {
   "cell_type": "code",
   "execution_count": null,
   "metadata": {},
   "outputs": [],
   "source": [
    "#Creating relevant variables\n",
    "away['win_pct'] = away['W'] / away['GP']\n",
    "away['pyth_win_pct'] = away['Goals_scored'] ** 2 / (away['Goals_scored'] ** 2 + away['Goals_conced'] ** 2)\n",
    "display(away[0:4])"
   ]
  },
  {
   "cell_type": "code",
   "execution_count": null,
   "metadata": {},
   "outputs": [],
   "source": [
    "#Identifying teams with more 260 home games played \n",
    "home['Long'] = ['Yes' if home.loc[ex, 'GP'] > 260 else 'No' \n",
    "                for ex in home.index]"
   ]
  },
  {
   "cell_type": "code",
   "execution_count": null,
   "metadata": {},
   "outputs": [],
   "source": [
    "# Identifying teams with more 260 home games played\n",
    "away['Long'] = ['Yes' if away.loc[ex, 'GP'] > 260 else 'No'\n",
    "                for ex in away.index]"
   ]
  },
  {
   "cell_type": "code",
   "execution_count": null,
   "metadata": {},
   "outputs": [],
   "source": [
    "#Goals Difference\n",
    "home['Goals_diff'] = home['Goals_Scored'] - home['Goals_Conced']\n",
    "away['Goals_diff'] = away['Goals_scored'] - away['Goals_conced']"
   ]
  },
  {
   "cell_type": "code",
   "execution_count": null,
   "metadata": {},
   "outputs": [],
   "source": [
    "#Summary Statistics\n",
    "away.describe()"
   ]
  },
  {
   "cell_type": "code",
   "execution_count": null,
   "metadata": {},
   "outputs": [],
   "source": [
    "#Correlations\n",
    "plt.figure(figsize = (15, 8))\n",
    "sns.heatmap(home.corr(), cmap ='coolwarm', annot = True)\n",
    "plt.title('Correlation Coffiecent Matrix For Home ', fontsize = 15)"
   ]
  },
  {
   "cell_type": "code",
   "execution_count": null,
   "metadata": {},
   "outputs": [],
   "source": [
    "#Regression plot ofr win percentage vs pythogreon win percentage for home stats\n",
    "plt.figure(figsize=(15, 8))\n",
    "sns.regplot(x = 'win_pct', y = 'pyth_win_pct', data = home)\n",
    "plt.title('Winning Percentage vs Pythogorean Winning Percentage For Home ', fontsize=15)\n",
    "plt.xlabel('Winning Percentage', fontsize = 15)\n",
    "plt.ylabel('Pythogorean Winning Percentage', fontsize = 15)"
   ]
  },
  {
   "cell_type": "code",
   "execution_count": null,
   "metadata": {},
   "outputs": [],
   "source": [
    "#Top 10 teams with most home wins\n",
    "home.sort_values(by = ['W', 'GP'], ascending = [False, False]).head(10)"
   ]
  },
  {
   "cell_type": "code",
   "execution_count": null,
   "metadata": {},
   "outputs": [],
   "source": [
    "# Top 10 teams with most home Scored\n",
    "home.sort_values(by=['Goals_Scored', 'GP'], ascending=[False, False]).head(10)"
   ]
  },
  {
   "cell_type": "code",
   "execution_count": null,
   "metadata": {},
   "outputs": [],
   "source": [
    "# Top 10 teams with most home conced\n",
    "home.sort_values(by=['Goals_Conced', 'GP'], ascending=[False, False]).head(10)"
   ]
  },
  {
   "cell_type": "code",
   "execution_count": null,
   "metadata": {},
   "outputs": [],
   "source": [
    "# Top 10 teams with most home loss\n",
    "home.sort_values(by=['L', 'GP'], ascending=[False, False]).head(10)"
   ]
  },
  {
   "cell_type": "code",
   "execution_count": null,
   "metadata": {},
   "outputs": [],
   "source": [
    "# Top 10 teams with most goals diff\n",
    "home.sort_values(by=['Goals_diff', 'GP'], ascending=[False, False]).head(10)"
   ]
  },
  {
   "cell_type": "code",
   "execution_count": null,
   "metadata": {},
   "outputs": [],
   "source": [
    "# Top 10 teams with most home draws\n",
    "home.sort_values(by=['D', 'GP'], ascending=[False, False]).head(10)"
   ]
  },
  {
   "cell_type": "code",
   "execution_count": null,
   "metadata": {},
   "outputs": [],
   "source": [
    "# Top 10 teams with most home win value \n",
    "home.sort_values(by=['WV', 'GP'], ascending=[False, False]).head(10)"
   ]
  },
  {
   "cell_type": "code",
   "execution_count": null,
   "metadata": {},
   "outputs": [],
   "source": [
    "# Top 10 teams with high win pct\n",
    "home.sort_values(by=['win_pct', 'GP'], ascending=[False, False]).head(10)"
   ]
  },
  {
   "attachments": {},
   "cell_type": "markdown",
   "metadata": {},
   "source": [
    "### Away Teams"
   ]
  },
  {
   "cell_type": "code",
   "execution_count": null,
   "metadata": {},
   "outputs": [],
   "source": [
    "#Correlations\n",
    "plt.figure(figsize=(15, 8))\n",
    "sns.heatmap(away.corr(), cmap='coolwarm', annot=True)\n",
    "plt.title('Correlation Coffiecent Matrix For Away', fontsize=15)"
   ]
  },
  {
   "cell_type": "code",
   "execution_count": null,
   "metadata": {},
   "outputs": [],
   "source": [
    "#Regression plot for win percentage vs pythogorean win percentages for away stats\n",
    "plt.figure(figsize=(15, 8))\n",
    "sns.regplot(x='win_pct', y='pyth_win_pct', data=away)\n",
    "plt.title(\n",
    "    'Winning Percentage vs Pythogorean Winning Percentage For Away ', fontsize=15)\n",
    "plt.xlabel('Winning Percentage', fontsize=15)\n",
    "plt.ylabel('Pythogorean Winning Percentage', fontsize=15)\n"
   ]
  },
  {
   "cell_type": "code",
   "execution_count": null,
   "metadata": {},
   "outputs": [],
   "source": [
    "#Top 10 teams with most away wins\n",
    "away.sort_values(by = ['W'], ascending=False).head(10)"
   ]
  },
  {
   "cell_type": "code",
   "execution_count": null,
   "metadata": {},
   "outputs": [],
   "source": [
    "# Top 10 teams with most away goals\n",
    "away.sort_values(by=['Goals_scored'], ascending=False).head(10)\n"
   ]
  },
  {
   "cell_type": "code",
   "execution_count": null,
   "metadata": {},
   "outputs": [],
   "source": [
    "# Top 10 teams with high away win pct\n",
    "away.sort_values(by=['win_pct'], ascending=False).head(10)\n"
   ]
  },
  {
   "cell_type": "code",
   "execution_count": null,
   "metadata": {},
   "outputs": [],
   "source": [
    "# Top 10 teams with most away goals conced\n",
    "away.sort_values(by=['Goals_conced'], ascending=False).head(10)"
   ]
  },
  {
   "cell_type": "code",
   "execution_count": null,
   "metadata": {},
   "outputs": [],
   "source": [
    "# Top 10 teams with most goals diff\n",
    "away.sort_values(by=['Goals_diff', 'GP'], ascending=[False, False]).head(10)"
   ]
  },
  {
   "cell_type": "code",
   "execution_count": null,
   "metadata": {},
   "outputs": [],
   "source": [
    "# Top 10 teams with most away loss\n",
    "away.sort_values(by=['L'], ascending=False).head(15)"
   ]
  },
  {
   "cell_type": "code",
   "execution_count": null,
   "metadata": {},
   "outputs": [],
   "source": [
    "# Top 10 teams with most away draw\n",
    "away.sort_values(by=['D'], ascending=False).head(10)"
   ]
  },
  {
   "cell_type": "code",
   "execution_count": null,
   "metadata": {},
   "outputs": [],
   "source": [
    "# Top 10 teams with most away win values (Combination of wins and draws (1 - for 0.5 for draw))\n",
    "away.sort_values(by=['WV'], ascending=False).head(10)"
   ]
  },
  {
   "cell_type": "code",
   "execution_count": null,
   "metadata": {},
   "outputs": [],
   "source": [
    "#Creating a dataframe to hold some more relevant data for teams in home and in away\n",
    "EPL = pd.DataFrame()\n",
    "EPL['Teams'] = home['Team']\n",
    "EPL['Long'] = home['Long']\n",
    "EPL['H_win_pct'] = home['win_pct']\n",
    "EPL['H_pyth'] = home['pyth_win_pct']\n",
    "EPL['A_win_pct'] = away['win_pct']\n",
    "EPL['A_pyth'] = away['pyth_win_pct']\n",
    "display(EPL[0:10])"
   ]
  },
  {
   "cell_type": "code",
   "execution_count": null,
   "metadata": {},
   "outputs": [],
   "source": [
    "#Regression plot for win percentage for both home and away\n",
    "plt.figure(figsize = (15, 8))\n",
    "sns.regplot(x = 'H_win_pct', y = 'A_win_pct', data = EPL)\n",
    "plt.title('Home Win Percentage vs Away Win Percentage', fontsize=20)\n",
    "plt.xlabel('Win Percentage (Home)', fontsize=15)\n",
    "plt.ylabel('Win Percentage (Away)', fontsize=15)"
   ]
  },
  {
   "cell_type": "code",
   "execution_count": null,
   "metadata": {},
   "outputs": [],
   "source": [
    "#Regression plot for win percentage for both home and away, for teams with more games played and less games played\n",
    "sns.set_style('whitegrid')\n",
    "sns.lmplot(x = 'H_win_pct', y = 'A_win_pct', data = EPL, hue = 'Long', palette = 'coolwarm', height = 6, aspect = 1, fit_reg = True)\n",
    "plt.title('Regression Plot of Win Percentage vs Pyth Win Percentge For Home Matches', fontsize = 20)\n",
    "plt.xlabel('Home Win Percentages', fontsize = 15)\n",
    "plt.ylabel(\"Home Pyth Win Percentage\", fontsize = 15)"
   ]
  },
  {
   "cell_type": "code",
   "execution_count": null,
   "metadata": {},
   "outputs": [],
   "source": [
    "#Regression plot for pythogorean win percentage for both home and away, for teams with more games played and less games played\n",
    "sns.set_style('whitegrid')\n",
    "sns.lmplot(x = 'H_pyth', y = 'A_pyth', data = EPL, hue = 'Long', palette = 'coolwarm', height = 6, aspect = 1, fit_reg = True)\n",
    "plt.title('Regression Plot of Win Percentage vs Pyth Win Percentge For Away Matches', fontsize=20)\n",
    "plt.xlabel('Away Win Percentages', fontsize = 15)\n",
    "plt.ylabel(\"Away Pyth Win Percentage\", fontsize = 15)"
   ]
  },
  {
   "cell_type": "code",
   "execution_count": null,
   "metadata": {},
   "outputs": [],
   "source": [
    "#Histogram for Home win percentages\n",
    "sns.set_style('darkgrid')\n",
    "g = sns.FacetGrid(EPL, hue = 'Long', palette = 'coolwarm', height = 6, aspect = 2)\n",
    "g = g.map(plt.hist, 'H_win_pct', alpha = 0.7)\n",
    "plt.title('Home Teams Win Percentage', fontsize = 20)\n",
    "plt.xlabel('Win Percentage', fontsize = 15)\n",
    "plt.legend()"
   ]
  },
  {
   "cell_type": "code",
   "execution_count": null,
   "metadata": {},
   "outputs": [],
   "source": [
    "#Histogram for Home win percentages\n",
    "sns.set_style('darkgrid')\n",
    "g = sns.FacetGrid(EPL, hue = 'Long', palette = 'coolwarm', height = 6, aspect = 2)\n",
    "g = g.map(plt.hist, 'A_win_pct', alpha = 0.7)\n",
    "plt.title('Away Teams Win Percentage', fontsize = 20)\n",
    "plt.xlabel('Win Percentage', fontsize = 15)\n",
    "plt.legend()"
   ]
  },
  {
   "cell_type": "code",
   "execution_count": null,
   "metadata": {},
   "outputs": [],
   "source": [
    "import statsmodels.formula.api as smf \n",
    "#Home win percentage  and home pythogoreon win percentage\n",
    "reg1 = smf.ols(formula = 'H_win_pct ~ H_pyth', data = EPL).fit()\n",
    "reg1.summary()"
   ]
  },
  {
   "cell_type": "code",
   "execution_count": null,
   "metadata": {},
   "outputs": [],
   "source": [
    "#Home win percentage  and away win percentage\n",
    "reg2 = smf.ols(formula='H_win_pct ~ A_win_pct', data=EPL).fit()\n",
    "reg2.summary()"
   ]
  },
  {
   "cell_type": "code",
   "execution_count": null,
   "metadata": {},
   "outputs": [],
   "source": [
    "#Home win percentage  and home pythogoreon win percentage plus using 'Long' variable\n",
    "reg3 = smf.ols(formula='H_win_pct ~ H_pyth + C(Long)', data=EPL).fit()\n",
    "reg3.summary()"
   ]
  },
  {
   "cell_type": "code",
   "execution_count": null,
   "metadata": {},
   "outputs": [],
   "source": [
    "#Home win percentage, home pythogoreon win percentage and away win percentage\n",
    "reg4 = smf.ols(formula='H_win_pct ~ H_pyth+ A_win_pct', data=EPL).fit()\n",
    "reg4.summary()"
   ]
  },
  {
   "cell_type": "code",
   "execution_count": null,
   "metadata": {},
   "outputs": [],
   "source": [
    "#Home win percentage, home pythogoreon win percentage, away win percentage and away pythogorean\n",
    "reg5 = smf.ols(formula='H_win_pct ~ H_pyth+ A_win_pct+A_pyth', data=EPL).fit()\n",
    "reg5.summary()"
   ]
  },
  {
   "cell_type": "code",
   "execution_count": null,
   "metadata": {},
   "outputs": [],
   "source": [
    "#Home win percentage, home pythogoreon win percentage, away win percentage and treating each team as a unique entity\n",
    "reg6 = smf.ols(formula='H_win_pct ~ H_pyth+ A_win_pct + C(Long)', data=EPL).fit()\n",
    "reg6.summary()"
   ]
  },
  {
   "cell_type": "code",
   "execution_count": null,
   "metadata": {},
   "outputs": [],
   "source": [
    "#Home win percentage, home pythogoreon win percentage, away win percentage and (home pythogorean and away win percentages)\n",
    "reg7 = smf.ols(formula='H_win_pct ~ H_pyth+A_win_pct+H_pyth*A_win_pct', data=EPL).fit()\n",
    "reg7.summary()"
   ]
  },
  {
   "cell_type": "code",
   "execution_count": null,
   "metadata": {},
   "outputs": [],
   "source": [
    "#Home win percentage, home pythogoreon win percentage and away win percentage\n",
    "reg7 = smf.ols(formula='A_win_pct ~ A_pyth+ H_win_pct', data=EPL).fit()\n",
    "reg7.summary()"
   ]
  },
  {
   "attachments": {},
   "cell_type": "markdown",
   "metadata": {},
   "source": [
    "### Conclusions"
   ]
  },
  {
   "attachments": {},
   "cell_type": "markdown",
   "metadata": {},
   "source": [
    "The regression plots shows a very good relationship for teams who have played more than 460 games in the top flight league as comapred to the once with fewer games than 460. This show the win percentage and the pythogorean win percentage gives a perfect regression line for teams with more games.\n",
    "\n",
    "From the regression results, the home and away win percentage is better determined by the combination of pythogorean win percentage, win percentages for both home and away stats. in Home win percentage regression, the R-squared and the Adjusted r-squared are 0.914 and 0.911 respectively and for the away win percentage 0.931 and 0.927 for R-squared and Adjusted R-squared respectively."
   ]
  }
 ],
 "metadata": {
  "kernelspec": {
   "display_name": "base",
   "language": "python",
   "name": "python3"
  },
  "language_info": {
   "codemirror_mode": {
    "name": "ipython",
    "version": 3
   },
   "file_extension": ".py",
   "mimetype": "text/x-python",
   "name": "python",
   "nbconvert_exporter": "python",
   "pygments_lexer": "ipython3",
   "version": "3.8.8 (default, Apr 13 2021, 15:08:03) [MSC v.1916 64 bit (AMD64)]"
  },
  "orig_nbformat": 4,
  "vscode": {
   "interpreter": {
    "hash": "a3d1f5a40e83e699fa9d98d411f8d9f4af992d6222f178debd8b0cd072f22c83"
   }
  }
 },
 "nbformat": 4,
 "nbformat_minor": 2
}
