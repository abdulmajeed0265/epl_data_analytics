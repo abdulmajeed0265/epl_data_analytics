{
 "cells": [
  {
   "cell_type": "markdown",
   "metadata": {},
   "source": [
    "## Cluster Analysis on English Premier League Teams From 1993 - 2022"
   ]
  },
  {
   "cell_type": "markdown",
   "metadata": {},
   "source": []
  },
  {
   "cell_type": "code",
   "execution_count": null,
   "metadata": {},
   "outputs": [],
   "source": [
    "# Import necessary libraries\n",
    "import numpy as np\n",
    "import pandas as pd\n",
    "import matplotlib.pyplot as plt\n",
    "import seaborn as sns\n",
    "import sweetviz as sv\n",
    "import warnings\n",
    "warnings.filterwarnings(\"ignore\")\n",
    "plt.rcParams['figure.figsize'] = (15, 5)\n",
    "from sklearn.cluster import KMeans\n",
    "from sklearn import metrics"
   ]
  },
  {
   "cell_type": "code",
   "execution_count": null,
   "metadata": {},
   "outputs": [],
   "source": [
    "# Load the dataset\n",
    "EPL = pd.read_csv(\"English Premier League Data Analytics\\Data\\EPL_full.csv\")"
   ]
  },
  {
   "cell_type": "code",
   "execution_count": null,
   "metadata": {},
   "outputs": [],
   "source": [
    "display(EPL[0:10])"
   ]
  },
  {
   "cell_type": "code",
   "execution_count": null,
   "metadata": {},
   "outputs": [],
   "source": [
    "#Generate Statistical Report\n",
    "report = sv.analyze(EPL)\n",
    "report.show_notebook()"
   ]
  },
  {
   "cell_type": "markdown",
   "metadata": {},
   "source": [
    "#### Clustering Based on All Variables"
   ]
  },
  {
   "cell_type": "code",
   "execution_count": null,
   "metadata": {},
   "outputs": [],
   "source": [
    "#Selecting useful columns\n",
    "x = EPL[['GF', 'GA', 'W', 'D', 'L', 'GP', 'win_pct','pyth_win_pct', 'Goal_Diff']]\n",
    "x.head()"
   ]
  },
  {
   "cell_type": "code",
   "execution_count": null,
   "metadata": {},
   "outputs": [],
   "source": [
    "# Create an empty list to store the within-cluster sum of squares (WCSS) for each number of clusters\n",
    "wcss = []\n",
    "\n",
    "# Loop through a range of possible number of clusters\n",
    "for i in range(1, 11):\n",
    "    # Create a KMeans model with the current number of clusters\n",
    "    kmeans = KMeans(n_clusters=i)\n",
    "\n",
    "    # Fit the model to the data\n",
    "    kmeans.fit(x)\n",
    "\n",
    "    # Append the WCSS for the current model to the list\n",
    "    wcss.append(kmeans.inertia_)"
   ]
  },
  {
   "cell_type": "code",
   "execution_count": null,
   "metadata": {},
   "outputs": [],
   "source": [
    "# Plot the WCSS for each number of clusters\n",
    "plt.plot(range(1, 11), wcss)\n",
    "plt.xlabel('Number of clusters')\n",
    "plt.ylabel('WCSS') \n",
    "plt.show()"
   ]
  },
  {
   "cell_type": "code",
   "execution_count": null,
   "metadata": {},
   "outputs": [],
   "source": [
    "#The best Number of cluster\n",
    "kmeans = KMeans(5)\n",
    "kmeans.fit(x)"
   ]
  },
  {
   "cell_type": "code",
   "execution_count": null,
   "metadata": {},
   "outputs": [],
   "source": [
    "#Identifying clusters\n",
    "identified_cluster = kmeans.fit_predict(x)"
   ]
  },
  {
   "cell_type": "code",
   "execution_count": null,
   "metadata": {},
   "outputs": [],
   "source": [
    "data = EPL.copy()"
   ]
  },
  {
   "cell_type": "code",
   "execution_count": null,
   "metadata": {},
   "outputs": [],
   "source": [
    "#Attaching Clusters to each team\n",
    "data['Clusters'] = identified_cluster"
   ]
  },
  {
   "cell_type": "code",
   "execution_count": null,
   "metadata": {},
   "outputs": [],
   "source": [
    "data[0:10]"
   ]
  },
  {
   "cell_type": "code",
   "execution_count": null,
   "metadata": {},
   "outputs": [],
   "source": [
    "#Teams Belonging to cluster 0\n",
    "data[data['Clusters'] == 0].sort_values(by = 'PTS', ascending = False)"
   ]
  },
  {
   "cell_type": "code",
   "execution_count": null,
   "metadata": {},
   "outputs": [],
   "source": [
    "data[data['Clusters'] == 0].describe(include = 'all')"
   ]
  },
  {
   "cell_type": "code",
   "execution_count": null,
   "metadata": {},
   "outputs": [],
   "source": [
    "#Teams Belonging to cluster 1\n",
    "data[data['Clusters'] == 1].sort_values(by = 'PTS', ascending = False)"
   ]
  },
  {
   "cell_type": "code",
   "execution_count": null,
   "metadata": {},
   "outputs": [],
   "source": [
    "data[data['Clusters'] == 1].describe(include = 'all')"
   ]
  },
  {
   "cell_type": "code",
   "execution_count": null,
   "metadata": {},
   "outputs": [],
   "source": [
    "#Teams Belonging to cluster 2\n",
    "data[data['Clusters'] == 2].sort_values(by = 'PTS', ascending = False)"
   ]
  },
  {
   "cell_type": "code",
   "execution_count": null,
   "metadata": {},
   "outputs": [],
   "source": [
    "data[data['Clusters'] == 2].describe(include = 'all')"
   ]
  },
  {
   "cell_type": "code",
   "execution_count": null,
   "metadata": {},
   "outputs": [],
   "source": [
    "#Teams Belonging to cluster 3\n",
    "data[data['Clusters'] == 3].sort_values(by = 'PTS')"
   ]
  },
  {
   "cell_type": "code",
   "execution_count": null,
   "metadata": {},
   "outputs": [],
   "source": [
    "data[data['Clusters'] == 3].describe(include = 'all')"
   ]
  },
  {
   "cell_type": "code",
   "execution_count": null,
   "metadata": {},
   "outputs": [],
   "source": [
    "#Teams Belonging to cluster 4\n",
    "data[data['Clusters'] == 4].sort_values(by = 'PTS', ascending = False)"
   ]
  },
  {
   "cell_type": "code",
   "execution_count": null,
   "metadata": {},
   "outputs": [],
   "source": [
    "data[data['Clusters'] == 4].describe(include = 'all')"
   ]
  },
  {
   "cell_type": "code",
   "execution_count": null,
   "metadata": {},
   "outputs": [],
   "source": [
    "#Countplot for the clusters\n",
    "sns.countplot(x = 'Clusters', data = data)\n",
    "plt.title('Frequency of Clusters of English Premier League Teams From 1993 - 2022', fontsize = 20)\n",
    "plt.ylabel('Frequency', fontsize = 15)\n",
    "plt.xlabel('Team Clusters', fontsize = 15)"
   ]
  },
  {
   "cell_type": "markdown",
   "metadata": {},
   "source": [
    "The Teams can be clustered into 2, 3, 4, 5, 6, but the suitable or best cluster is 5. This clusters is based on the number of games played and the number of points amassed. Surprisely,\n",
    "manchester city is not part of the teams with the highest points and number games played. They are part of teams with some kind high game played and the teams includes, Everton, New Castle\n",
    "united, Southampton."
   ]
  },
  {
   "cell_type": "markdown",
   "metadata": {},
   "source": [
    "#### Clustring Based on Win Percentage and the Number of Games Played"
   ]
  },
  {
   "cell_type": "code",
   "execution_count": null,
   "metadata": {},
   "outputs": [],
   "source": [
    "win = data[['win_pct', 'GP']]\n",
    "wcss = []\n",
    "for i in range(1,10):\n",
    "    kmeans = KMeans(i)\n",
    "    kmeans.fit(win)    \n",
    "    wcss.append(kmeans.inertia_)"
   ]
  },
  {
   "cell_type": "code",
   "execution_count": null,
   "metadata": {},
   "outputs": [],
   "source": [
    "plt.plot(range(1,10),wcss)\n",
    "plt.xlabel('Number of Clusters')\n",
    "plt.ylabel('WCSS')\n",
    "plt.show()"
   ]
  },
  {
   "cell_type": "code",
   "execution_count": null,
   "metadata": {},
   "outputs": [],
   "source": [
    "kmeans = KMeans(4)\n",
    "kmeans.fit(win)\n",
    "clusters = kmeans.fit_predict(win)\n",
    "y = win.copy()\n",
    "y['Teams'] = data['Team']\n",
    "y['Clusters'] = clusters\n",
    "y.head()"
   ]
  },
  {
   "cell_type": "code",
   "execution_count": null,
   "metadata": {},
   "outputs": [],
   "source": [
    "sns.countplot(x = 'Clusters', data = y)\n",
    "plt.title('Frequency of Clusters of English Premier League Teams From 1993 - 2022 Based on Win Percentage and Games Played', fontsize = 20)\n",
    "plt.ylabel('Frequency', fontsize = 15)\n",
    "plt.xlabel('Team Clusters', fontsize = 15)"
   ]
  },
  {
   "cell_type": "code",
   "execution_count": null,
   "metadata": {},
   "outputs": [],
   "source": [
    "points = data[['PTS', 'GP']]\n",
    "wcss = []\n",
    "for i in range(1,10):\n",
    "    kmeans = KMeans(i)\n",
    "    kmeans.fit(points)    \n",
    "    wcss.append(kmeans.inertia_)"
   ]
  },
  {
   "cell_type": "code",
   "execution_count": null,
   "metadata": {},
   "outputs": [],
   "source": [
    "plt.plot(range(1,10),wcss)\n",
    "plt.xlabel('Number of Clusters')\n",
    "plt.ylabel('WCSS')\n",
    "plt.show()"
   ]
  },
  {
   "cell_type": "code",
   "execution_count": null,
   "metadata": {},
   "outputs": [],
   "source": [
    "kmeans = KMeans(5)\n",
    "kmeans.fit(points)\n",
    "clusters = kmeans.fit_predict(points)\n",
    "y = points.copy()\n",
    "y['Teams'] = data['Team']\n",
    "y['Clusters'] = clusters\n",
    "y.head()"
   ]
  },
  {
   "cell_type": "code",
   "execution_count": null,
   "metadata": {},
   "outputs": [],
   "source": [
    "sns.countplot(x = 'Clusters', data = y)\n",
    "plt.title('Frequency of Clusters of English Premier League Teams From 1993 - 2022 Based on Points and Games Played', fontsize = 20)\n",
    "plt.ylabel('Frequency', fontsize = 15)\n",
    "plt.xlabel('Team Clusters', fontsize = 15)"
   ]
  },
  {
   "cell_type": "code",
   "execution_count": null,
   "metadata": {},
   "outputs": [],
   "source": [
    "pyth_win = data[['win_pct', 'pyth_win_pct']]\n",
    "wcss = []\n",
    "for i in range(1,10):\n",
    "    kmeans = KMeans(i)\n",
    "    kmeans.fit(pyth_win)    \n",
    "    wcss.append(kmeans.inertia_)"
   ]
  },
  {
   "cell_type": "code",
   "execution_count": null,
   "metadata": {},
   "outputs": [],
   "source": [
    "plt.plot(range(1,10),wcss)\n",
    "plt.xlabel('Number of Clusters')\n",
    "plt.ylabel('WCSS')\n",
    "plt.show()"
   ]
  },
  {
   "cell_type": "code",
   "execution_count": null,
   "metadata": {},
   "outputs": [],
   "source": [
    "kmeans = KMeans(6)\n",
    "kmeans.fit(pyth_win)\n",
    "clusters = kmeans.fit_predict(pyth_win)\n",
    "y = pyth_win.copy()\n",
    "y['Teams'] = data['Team']\n",
    "y['Clusters'] = clusters\n",
    "y.head()"
   ]
  },
  {
   "cell_type": "code",
   "execution_count": null,
   "metadata": {},
   "outputs": [],
   "source": [
    "sns.countplot(x = 'Clusters', data = y)\n",
    "plt.title('Frequency of Clusters of English Premier League Teams From 1993 - 2022 Based on Win Percentages', fontsize = 20)\n",
    "plt.ylabel('Frequency', fontsize = 15)\n",
    "plt.xlabel('Team Clusters', fontsize = 15)"
   ]
  },
  {
   "cell_type": "code",
   "execution_count": null,
   "metadata": {},
   "outputs": [],
   "source": [
    "pyth_win_GP = data[['win_pct', 'pyth_win_pct', 'GP']]\n",
    "wcss = []\n",
    "for i in range(1,10):\n",
    "    kmeans = KMeans(i)\n",
    "    kmeans.fit(pyth_win_GP)    \n",
    "    wcss.append(kmeans.inertia_)"
   ]
  },
  {
   "cell_type": "code",
   "execution_count": null,
   "metadata": {},
   "outputs": [],
   "source": [
    "plt.plot(range(1,10),wcss)\n",
    "plt.xlabel('Number of Clusters')\n",
    "plt.ylabel('WCSS')\n",
    "plt.show()"
   ]
  },
  {
   "cell_type": "code",
   "execution_count": null,
   "metadata": {},
   "outputs": [],
   "source": [
    "kmeans = KMeans(5)\n",
    "kmeans.fit(pyth_win_GP)\n",
    "clusters = kmeans.fit_predict(pyth_win_GP)\n",
    "y = pyth_win_GP.copy()\n",
    "y['Teams'] = data['Team']\n",
    "y['Clusters'] = clusters\n",
    "y.head()"
   ]
  },
  {
   "cell_type": "code",
   "execution_count": null,
   "metadata": {},
   "outputs": [],
   "source": [
    "sns.countplot(x = 'Clusters', data = y)\n",
    "plt.title('Frequency of Clusters of English Premier League Teams From 1993 - 2022 Based on Win Percentages and Games Played', fontsize = 20)\n",
    "plt.ylabel('Frequency', fontsize = 15)\n",
    "plt.xlabel('Team Clusters', fontsize = 15)"
   ]
  },
  {
   "cell_type": "markdown",
   "metadata": {},
   "source": [
    "### Conclusions"
   ]
  },
  {
   "cell_type": "markdown",
   "metadata": {},
   "source": [
    "Overall, the teams are basically being clustered into 5 based on the different variables used. Some of the models clustered the data into 6 and five clusters respectively. \n",
    "5 is the best number of cluster for the our teams in EPL since 1993 to 2022. There are only 5 top teams based on their points and the number of games they have played since 1993 which make \n",
    "them the most consistent teams to played in almost all the season from 1993 to 2022."
   ]
  }
 ],
 "metadata": {
  "kernelspec": {
   "display_name": "Python 3.8.8 ('base')",
   "language": "python",
   "name": "python3"
  },
  "language_info": {
   "codemirror_mode": {
    "name": "ipython",
    "version": 3
   },
   "file_extension": ".py",
   "mimetype": "text/x-python",
   "name": "python",
   "nbconvert_exporter": "python",
   "pygments_lexer": "ipython3",
   "version": "3.8.8 (default, Apr 13 2021, 15:08:03) [MSC v.1916 64 bit (AMD64)]"
  },
  "orig_nbformat": 4,
  "vscode": {
   "interpreter": {
    "hash": "a3d1f5a40e83e699fa9d98d411f8d9f4af992d6222f178debd8b0cd072f22c83"
   }
  }
 },
 "nbformat": 4,
 "nbformat_minor": 2
}
