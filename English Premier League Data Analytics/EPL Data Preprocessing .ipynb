{
 "cells": [
  {
   "attachments": {},
   "cell_type": "markdown",
   "metadata": {},
   "source": [
    "### English Premier League (EPL) Matches Data Preprocessing and Analysics.\n",
    "This project preprocessed data containing matches from 1993/1994 season to 2021/2022 Season."
   ]
  },
  {
   "attachments": {},
   "cell_type": "markdown",
   "metadata": {},
   "source": [
    "#### Importing relevant libraries"
   ]
  },
  {
   "cell_type": "code",
   "execution_count": null,
   "metadata": {},
   "outputs": [],
   "source": [
    "#Importing relevant libraries\n",
    "import numpy as np\n",
    "import pandas as pd\n",
    "import matplotlib.pyplot as plt\n",
    "import seaborn as sns\n",
    "import warnings\n",
    "warnings.filterwarnings(\"ignore\")"
   ]
  },
  {
   "attachments": {},
   "cell_type": "markdown",
   "metadata": {},
   "source": [
    "#### Importing Data"
   ]
  },
  {
   "cell_type": "code",
   "execution_count": null,
   "metadata": {},
   "outputs": [],
   "source": [
    "#Reading data\n",
    "data = pd.read_csv('EPL Matches.csv')\n",
    "display(data[0:10])"
   ]
  },
  {
   "attachments": {},
   "cell_type": "markdown",
   "metadata": {},
   "source": [
    "## Data Preprocessing and Exploratory Data Analysis (EDA)"
   ]
  },
  {
   "cell_type": "code",
   "execution_count": null,
   "metadata": {},
   "outputs": [],
   "source": [
    "#Creating variable 'count' to track the number of matches played\n",
    "data['count'] = 1\n",
    "data.head()"
   ]
  },
  {
   "cell_type": "code",
   "execution_count": null,
   "metadata": {},
   "outputs": [],
   "source": [
    "data.describe()"
   ]
  },
  {
   "cell_type": "code",
   "execution_count": null,
   "metadata": {},
   "outputs": [],
   "source": [
    "#Count plot to find the number of games which resulted in Win, Draw and Loss\n",
    "plt.figure(figsize = (15, 8))\n",
    "sns.countplot(x = 'FTR', data = data)\n",
    "plt.title('Count of Match / Game Outcome', fontsize = 20)\n",
    "plt.xlabel('Match Outcome (Home Win, Draw, Away Win)', fontsize = 15)\n",
    "plt.ylabel('Count', fontsize = 15)"
   ]
  },
  {
   "attachments": {},
   "cell_type": "markdown",
   "metadata": {},
   "source": [
    "### Data Preprocessing and Preparation"
   ]
  },
  {
   "cell_type": "code",
   "execution_count": null,
   "metadata": {},
   "outputs": [],
   "source": [
    "#Extracting the home teams from the dataset\n",
    "home = data.sort_values(by = ['Year', 'Month'])[['Year', 'Month', 'Home', 'HomeGoals', 'AwayGoals', 'FTR', 'count']]\n",
    "display(home[0:10])"
   ]
  },
  {
   "cell_type": "code",
   "execution_count": null,
   "metadata": {},
   "outputs": [],
   "source": [
    "#Extracting away teams from the dataset\n",
    "away = data.sort_values(by = ['Year', 'Month'])[['Year', 'Month', 'Away', 'HomeGoals', 'AwayGoals', 'FTR', 'count']]\n",
    "display(away[0:10])"
   ]
  },
  {
   "cell_type": "code",
   "execution_count": null,
   "metadata": {},
   "outputs": [],
   "source": [
    "#Creating useful variables like win, drae, loss, pts etc.\n",
    "home['HW'] = np.where(home['FTR'] == 'H', 1, 0)\n",
    "home['HD'] = np.where(home['FTR'] == 'D', 1, 0)\n",
    "home['HL'] = np.where(home['FTR'] == 'A', 1, 0)\n",
    "home['HPTS'] = np.where(home['FTR'] == 'H', 3, \n",
    "                        np.where(home['FTR'] == 'D', 1, 0))\n",
    "home['hwinvalue'] = np.where(home['FTR'] == 'H', 1, \n",
    "                             np.where(home['FTR'] == 'D', .5, 0))\n",
    "display(home[0:10])"
   ]
  },
  {
   "cell_type": "code",
   "execution_count": null,
   "metadata": {},
   "outputs": [],
   "source": [
    "# Creating useful variables like win, drae, loss, pts etc.\n",
    "away['AW'] = np.where(away['FTR'] == 'A', 1, 0)\n",
    "away['AD'] = np.where(away['FTR'] == 'D', 1, 0)\n",
    "away['AL'] = np.where(away['FTR'] == 'H', 1, 0)\n",
    "away['APTS'] = np.where(away['FTR'] == 'A', 3,\n",
    "                        np.where(away['FTR'] == 'D', 1, 0))\n",
    "away['awinvalue'] = np.where(\n",
    "    away['FTR'] == 'A', 1, np.where(away['FTR'] == 'D', .5, 0))\n",
    "display(away[0:10])\n"
   ]
  },
  {
   "cell_type": "code",
   "execution_count": null,
   "metadata": {},
   "outputs": [],
   "source": [
    "#Aggregation of the home data\n",
    "home = home.groupby(['Year', 'Month', 'Home'])['HomeGoals', 'AwayGoals', 'FTR', 'count', 'HW',\n",
    "                                                                       'HD', 'HL', 'HPTS', 'hwinvalue'].sum().reset_index()\n",
    "home[0:10]"
   ]
  },
  {
   "cell_type": "code",
   "execution_count": null,
   "metadata": {},
   "outputs": [],
   "source": [
    "#Renaming Columns\n",
    "home = home.rename(columns={'HomeGoals': 'Goals_for_h', 'Home':'Team',\n",
    "                   'AwayGoals': 'Goals_against_a', 'count': 'GPh'})\n",
    "home.head()\n"
   ]
  },
  {
   "cell_type": "code",
   "execution_count": null,
   "metadata": {},
   "outputs": [],
   "source": [
    "#Aggregation for away dataframe\n",
    "away = away.groupby(['Year', 'Month', 'Away'])['HomeGoals', 'AwayGoals', 'FTR', 'count', 'AW',\n",
    "                                               'AD', 'AL', 'APTS', 'awinvalue'].sum().reset_index()\n",
    "away[0:10]"
   ]
  },
  {
   "cell_type": "code",
   "execution_count": null,
   "metadata": {},
   "outputs": [],
   "source": [
    "#Renaming columns / variables\n",
    "away = away.rename(columns={'HomeGoals': 'Goals_against_h', 'Away': 'Team',\n",
    "                   'AwayGoals': 'Goals_for_a', 'count': 'GPa'})\n",
    "away.head()\n"
   ]
  },
  {
   "cell_type": "code",
   "execution_count": null,
   "metadata": {},
   "outputs": [],
   "source": [
    "#Saving our dataframes\n",
    "home.to_csv('home_teams.csv', index = False)\n",
    "away.to_csv('away_teams.csv',  index = False)"
   ]
  },
  {
   "cell_type": "code",
   "execution_count": null,
   "metadata": {},
   "outputs": [],
   "source": [
    "#Merging the two dataframes\n",
    "EPL = pd.merge(home, away, on = ['Year', 'Month', 'Team'])\n",
    "display(EPL[0:10])"
   ]
  },
  {
   "cell_type": "code",
   "execution_count": null,
   "metadata": {},
   "outputs": [],
   "source": [
    "#Saving our merged dataframes\n",
    "EPL.to_csv('EPL_Unagg_data.csv', index = False)"
   ]
  },
  {
   "cell_type": "code",
   "execution_count": null,
   "metadata": {},
   "outputs": [],
   "source": [
    "#Data aggregation\n",
    "EPL = EPL.groupby(['Year', 'Team']) ['Goals_for_h', 'Goals_against_a', 'GPh', 'HW',\n",
    "'HD', 'HL', 'HPTS', 'hwinvalue', 'Goals_against_h', 'Goals_for_a',\n",
    "'GPa', 'AW', 'AD', 'AL', 'APTS', 'awinvalue'].sum().reset_index()"
   ]
  },
  {
   "cell_type": "code",
   "execution_count": null,
   "metadata": {},
   "outputs": [],
   "source": [
    "EPL.head()"
   ]
  },
  {
   "cell_type": "code",
   "execution_count": null,
   "metadata": {},
   "outputs": [],
   "source": [
    "#Creating useful variable\n",
    "# sourcery skip: remove-redundant-slice-index\n",
    "EPL['PTS'] = EPL['HPTS'] + EPL['APTS']\n",
    "EPL['GF'] = EPL['Goals_against_h'] + EPL['Goals_for_h']\n",
    "EPL['GA'] = EPL['Goals_for_a'] + EPL['Goals_against_a']\n",
    "EPL['W'] = EPL['HW'] + EPL['AW']\n",
    "EPL['D'] = EPL['HD'] + EPL['AW']\n",
    "EPL['L'] = EPL['HL'] + EPL['AL']\n",
    "EPL['WV'] = EPL['hwinvalue'] + EPL['awinvalue']\n",
    "EPL['GP'] = EPL['GPa'] + EPL['GPh']\n",
    "display(EPL[0:10])"
   ]
  },
  {
   "cell_type": "code",
   "execution_count": null,
   "metadata": {},
   "outputs": [],
   "source": [
    "#Creating Winning Percentages\n",
    "EPL['win_pct'] = EPL['W'] / EPL['GP']\n",
    "EPL['pyth'] = EPL['GF'] ** 2 / (EPL['GF'] ** 2 + EPL['GA'] ** 2)\n",
    "EPL.head()"
   ]
  },
  {
   "cell_type": "code",
   "execution_count": null,
   "metadata": {},
   "outputs": [],
   "source": [
    "#Correlation Coefficent\n",
    "EPL.corr()"
   ]
  },
  {
   "cell_type": "code",
   "execution_count": null,
   "metadata": {},
   "outputs": [],
   "source": [
    "#Save dataframe\n",
    "EPL.to_csv('EPL_Matches_93_22.csv', index = False)"
   ]
  },
  {
   "attachments": {},
   "cell_type": "markdown",
   "metadata": {},
   "source": [
    "### Exploratory Data Analysis (EDA)"
   ]
  },
  {
   "cell_type": "code",
   "execution_count": null,
   "metadata": {},
   "outputs": [],
   "source": [
    "#Plotting heatmap for the correlation\n",
    "plt.figure(figsize = (20, 8))\n",
    "sns.heatmap(EPL.corr(), annot = True, cmap = 'coolwarm')"
   ]
  },
  {
   "attachments": {},
   "cell_type": "markdown",
   "metadata": {},
   "source": [
    "Most of the variables are highly correlated. Some with Negative correlation and others with Positive correlation. This values indicates how \n",
    "these variables affects each other."
   ]
  },
  {
   "cell_type": "code",
   "execution_count": null,
   "metadata": {},
   "outputs": [],
   "source": [
    "#Distribution plots for some variables\n",
    "for feat in EPL.columns:\n",
    "    if feat not in ['Team', 'Long']:\n",
    "        plt.figure(figsize=(15, 8))\n",
    "        sns.displot(EPL[feat])"
   ]
  },
  {
   "cell_type": "code",
   "execution_count": null,
   "metadata": {},
   "outputs": [],
   "source": [
    "#Distribution plots for useful variable\n",
    "for feat in EPL.columns:\n",
    "    if feat not in ['Team', 'Long']:\n",
    "        plt.figure(figsize=(15, 8))\n",
    "        sns.displot(EPL[feat])"
   ]
  },
  {
   "cell_type": "code",
   "execution_count": null,
   "metadata": {},
   "outputs": [],
   "source": [
    "#Regression plots for useful variables vs win percentage\n",
    "for feat in EPL.columns:\n",
    "    if feat not in ['Team', 'Long', 'win_pct']:\n",
    "       plt.figure(figsize=(15, 8))\n",
    "       sns.regplot(x = 'win_pct', y = feat, data = EPL)"
   ]
  },
  {
   "cell_type": "code",
   "execution_count": null,
   "metadata": {},
   "outputs": [],
   "source": [
    "#Regression plots for pythogoreon win percentage vs other variables or features\n",
    "for feat in EPL.columns:\n",
    "    if feat not in ['Team', 'Long','pyth']:\n",
    "       plt.figure(figsize=(15, 8))\n",
    "       sns.regplot(x='pyth', y=feat, data=EPL)\n"
   ]
  },
  {
   "cell_type": "code",
   "execution_count": null,
   "metadata": {},
   "outputs": [],
   "source": [
    "#Violin plot for the features\n",
    "for feat in EPL.columns:\n",
    "    if feat not in ['Team', 'Long']:\n",
    "       plt.figure(figsize=(15, 8))\n",
    "       sns.violinplot(x=feat, data=EPL)"
   ]
  },
  {
   "cell_type": "code",
   "execution_count": null,
   "metadata": {},
   "outputs": [],
   "source": [
    "#Box plot for features\n",
    "for feat in EPL.columns:\n",
    "    if feat not in ['Team', 'Long']:\n",
    "        plt.figure(figsize=(15, 8))\n",
    "        sns.boxplot(x=feat, data=EPL)"
   ]
  },
  {
   "attachments": {},
   "cell_type": "markdown",
   "metadata": {},
   "source": [
    "## Conclusions"
   ]
  },
  {
   "attachments": {},
   "cell_type": "markdown",
   "metadata": {},
   "source": [
    "The data contains some few outliers because of some team playing fewer games than 460 in the top flight league. Some of this teams include Bransley, Charlton Atheletics and some few others."
   ]
  }
 ],
 "metadata": {
  "kernelspec": {
   "display_name": "Python 3.8.8 ('base')",
   "language": "python",
   "name": "python3"
  },
  "language_info": {
   "codemirror_mode": {
    "name": "ipython",
    "version": 3
   },
   "file_extension": ".py",
   "mimetype": "text/x-python",
   "name": "python",
   "nbconvert_exporter": "python",
   "pygments_lexer": "ipython3",
   "version": "3.8.8"
  },
  "orig_nbformat": 4,
  "vscode": {
   "interpreter": {
    "hash": "a3d1f5a40e83e699fa9d98d411f8d9f4af992d6222f178debd8b0cd072f22c83"
   }
  }
 },
 "nbformat": 4,
 "nbformat_minor": 2
}
